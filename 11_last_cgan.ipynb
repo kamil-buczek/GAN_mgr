{
 "cells": [
  {
   "cell_type": "code",
   "execution_count": null,
   "metadata": {
    "pycharm": {
     "name": "#%%\n"
    }
   },
   "outputs": [],
   "source": [
    "# External\n",
    "import tensorflow as tf\n",
    "import tensorflow_datasets as tfds\n",
    "import numpy as np\n",
    "# Std\n",
    "import os\n",
    "# Local\n",
    "from lib.functions import show_sample_images\n",
    "from CGAN import CGanNet"
   ]
  },
  {
   "cell_type": "code",
   "execution_count": null,
   "metadata": {
    "pycharm": {
     "name": "#%%\n"
    }
   },
   "outputs": [],
   "source": [
    "NET_NAME = \"11_Last_CGAN\"\n",
    "BATCH_SIZE = 32\n",
    "IMAGE_WIDTH = 64\n",
    "IMAGE_HEIGHT = 64\n",
    "LEARNING_RATE_DISC: float = 0.0002\n",
    "LEARNING_RATE_GAN: float = 0.0002\n",
    "DROPOUT_RATE: float = 0.4\n",
    "DENSE_UNITS=128\n",
    "CONV_LAYERS = 2\n",
    "BATCH_NORM = False"
   ]
  },
  {
   "cell_type": "code",
   "execution_count": null,
   "metadata": {
    "pycharm": {
     "name": "#%%\n"
    }
   },
   "outputs": [],
   "source": [
    "os.environ[\"TF_CPP_MIN_LOG_LEVEL\"] = \"2\"\n",
    "physical_devices = tf.config.list_physical_devices(\"GPU\")\n",
    "tf.config.experimental.set_memory_growth(physical_devices[0], True)"
   ]
  },
  {
   "cell_type": "code",
   "execution_count": null,
   "outputs": [],
   "source": [
    "# Load flowers dataset\n",
    "(flowers_training_set, flowers_validation_set), flowers_dataset_info = tfds.load(\n",
    "    'oxford_flowers102',\n",
    "    split=['test[:49%]', 'validation'],\n",
    "    with_info=True,\n",
    "    as_supervised=True,\n",
    ")\n",
    "# Get size of datasets from dataset_info\n",
    "flowers_dataset_size = flowers_dataset_info.splits['test[:49%]'].num_examples\n",
    "print(f'Flower dataset size is: {flowers_dataset_size}')"
   ],
   "metadata": {
    "collapsed": false,
    "pycharm": {
     "name": "#%%\n"
    }
   }
  },
  {
   "cell_type": "code",
   "execution_count": null,
   "outputs": [],
   "source": [
    "# Load birds dataset\n",
    "(birds_training_set, birds_test_set), birds_dataset_info = tfds.load(\n",
    "    'caltech_birds2010',\n",
    "    split=['train', 'test'],\n",
    "    with_info=True,\n",
    "    as_supervised=True,\n",
    ")\n",
    "# Get size of datasets from dataset_info\n",
    "birds_dataset_size = birds_dataset_info.splits['train'].num_examples\n",
    "print(f'Birds dataset size is: {birds_dataset_size}')"
   ],
   "metadata": {
    "collapsed": false,
    "pycharm": {
     "name": "#%%\n"
    }
   }
  },
  {
   "cell_type": "code",
   "execution_count": null,
   "outputs": [],
   "source": [
    "# Load dogs dataset\n",
    "(dogs_training_set, dogs_test_set), dogs_dataset_info = tfds.load(\n",
    "    'stanford_dogs',\n",
    "    split=['train[:25%]', 'test'],\n",
    "    with_info=True,\n",
    "    as_supervised=True,\n",
    ")\n",
    "# Get size of datasets from dataset_info\n",
    "dogs_dataset_size = dogs_dataset_info.splits['train[:25%]'].num_examples\n",
    "print(f'Dogs dataset size is: {dogs_dataset_size}')"
   ],
   "metadata": {
    "collapsed": false,
    "pycharm": {
     "name": "#%%\n"
    }
   }
  },
  {
   "cell_type": "code",
   "execution_count": null,
   "metadata": {
    "pycharm": {
     "name": "#%%\n"
    }
   },
   "outputs": [],
   "source": [
    "# Preprocessing images\n",
    "def format_image(image, label):\n",
    "    image = tf.cast(image, tf.float32)\n",
    "    # image = image / 255.0\n",
    "    image = (image - 127.5) / 127.5\n",
    "    image = tf.image.resize(image, (IMAGE_WIDTH, IMAGE_HEIGHT))\n",
    "\n",
    "    return image, label\n",
    "flowers_train_batches = flowers_training_set.shuffle(flowers_dataset_size//4).map(format_image)\n",
    "birds_train_batches = birds_training_set.shuffle(birds_dataset_size//4).map(format_image)\n",
    "dogs_train_batches = dogs_training_set.shuffle(dogs_dataset_size//4).map(format_image)\n",
    "\n",
    "# Get labels numbers to names map\n",
    "labels_strings = {\n",
    "    0: \"Kwiat\",\n",
    "    1: \"Ptak\",\n",
    "    2: \"Pies\"\n",
    "}"
   ]
  },
  {
   "cell_type": "code",
   "execution_count": null,
   "outputs": [],
   "source": [
    "# Create numpy arrays with images and labels\n",
    "flowers_numpy_train_batches_images = np.array([_[0] for _ in flowers_train_batches])\n",
    "flowers_numpy_train_batches_labels = np.array([0 for _ in flowers_train_batches])\n",
    "birds_numpy_train_batches_images = np.array([_[0] for _ in birds_train_batches])\n",
    "birds_numpy_train_batches_labels = np.array([1 for _ in birds_train_batches])\n",
    "dogs_numpy_train_batches_images = np.array([_[0] for _ in dogs_train_batches])\n",
    "dogs_numpy_train_batches_labels = np.array([2 for _ in dogs_train_batches])"
   ],
   "metadata": {
    "collapsed": false,
    "pycharm": {
     "name": "#%%\n"
    }
   }
  },
  {
   "cell_type": "code",
   "execution_count": null,
   "outputs": [],
   "source": [
    "numpy_train_batches_images = np.concatenate((dogs_numpy_train_batches_images, flowers_numpy_train_batches_images, birds_numpy_train_batches_images))\n",
    "numpy_train_batches_labels = np.concatenate((dogs_numpy_train_batches_labels, flowers_numpy_train_batches_labels, birds_numpy_train_batches_labels))\n",
    "dataset_size = flowers_dataset_size + birds_dataset_size + dogs_dataset_size"
   ],
   "metadata": {
    "collapsed": false,
    "pycharm": {
     "name": "#%%\n"
    }
   }
  },
  {
   "cell_type": "code",
   "execution_count": null,
   "metadata": {
    "pycharm": {
     "name": "#%%\n"
    }
   },
   "outputs": [],
   "source": [
    "cgan = CGanNet(net_name=NET_NAME,\n",
    "               batch_size=BATCH_SIZE,\n",
    "               image_width=IMAGE_WIDTH,\n",
    "               image_height=IMAGE_HEIGHT,\n",
    "               learning_rate_disc= LEARNING_RATE_DISC,\n",
    "               learning_rate_gan=LEARNING_RATE_GAN,\n",
    "               dropout_rate= DROPOUT_RATE,\n",
    "               generator_dense_units=DENSE_UNITS,\n",
    "               num_conv_layers=CONV_LAYERS,\n",
    "               batch_norm=BATCH_NORM,\n",
    "               number_of_channels=3,\n",
    "               latent_dimension=100,\n",
    "               training_data=numpy_train_batches_images,\n",
    "               labels_data=numpy_train_batches_labels,\n",
    "               number_of_classes=3,\n",
    "               labels_names = labels_strings,\n",
    "               kernel_size=4)"
   ]
  },
  {
   "cell_type": "code",
   "execution_count": null,
   "outputs": [],
   "source": [
    "# Define GAN models\n",
    "cgan.define_discriminator()\n",
    "cgan.define_generator()\n",
    "cgan.define_gan()"
   ],
   "metadata": {
    "collapsed": false,
    "pycharm": {
     "name": "#%%\n"
    }
   }
  },
  {
   "cell_type": "code",
   "execution_count": null,
   "outputs": [],
   "source": [
    "# cgan.train(number_of_epochs=1, load_past_model=False)"
   ],
   "metadata": {
    "collapsed": false,
    "pycharm": {
     "name": "#%%\n"
    }
   }
  },
  {
   "cell_type": "code",
   "execution_count": null,
   "outputs": [],
   "source": [
    "show_sample_images(numpy_train_batches_images, numpy_train_batches_labels, labels_strings, NET_NAME, dataset_size=dataset_size)"
   ],
   "metadata": {
    "collapsed": false,
    "pycharm": {
     "name": "#%%\n"
    }
   }
  },
  {
   "cell_type": "code",
   "execution_count": null,
   "outputs": [],
   "source": [
    "cgan.visualize_models()"
   ],
   "metadata": {
    "collapsed": false,
    "pycharm": {
     "name": "#%%\n"
    }
   }
  },
  {
   "cell_type": "code",
   "execution_count": null,
   "outputs": [],
   "source": [
    "# cgan.train(number_of_epochs=1, load_past_model=True)"
   ],
   "metadata": {
    "collapsed": false,
    "pycharm": {
     "name": "#%%\n"
    }
   }
  },
  {
   "cell_type": "code",
   "execution_count": null,
   "outputs": [],
   "source": [
    "cgan.load_model()"
   ],
   "metadata": {
    "collapsed": false,
    "pycharm": {
     "name": "#%%\n"
    }
   }
  },
  {
   "cell_type": "code",
   "execution_count": null,
   "outputs": [],
   "source": [
    "cgan.get_training_time()"
   ],
   "metadata": {
    "collapsed": false,
    "pycharm": {
     "name": "#%%\n"
    }
   }
  },
  {
   "cell_type": "code",
   "execution_count": null,
   "outputs": [],
   "source": [
    "cgan.show_sample_images_with_labels(old_img_format=False)"
   ],
   "metadata": {
    "collapsed": false,
    "pycharm": {
     "name": "#%%\n"
    }
   }
  },
  {
   "cell_type": "code",
   "execution_count": null,
   "outputs": [],
   "source": [
    "cgan.show_one_image_with_label(1)"
   ],
   "metadata": {
    "collapsed": false,
    "pycharm": {
     "name": "#%%\n"
    }
   }
  }
 ],
 "metadata": {
  "kernelspec": {
   "display_name": "Python 3 (ipykernel)",
   "language": "python",
   "name": "python3"
  },
  "language_info": {
   "codemirror_mode": {
    "name": "ipython",
    "version": 3
   },
   "file_extension": ".py",
   "mimetype": "text/x-python",
   "name": "python",
   "nbconvert_exporter": "python",
   "pygments_lexer": "ipython3",
   "version": "3.8.10"
  }
 },
 "nbformat": 4,
 "nbformat_minor": 1
}