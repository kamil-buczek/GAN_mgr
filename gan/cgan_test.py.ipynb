{
 "cells": [
  {
   "cell_type": "code",
   "execution_count": 9,
   "outputs": [],
   "source": [
    "import os\n",
    "import tensorflow as tf\n",
    "from gan.CGAN import CGanNet\n",
    "import tensorflow_datasets as tfds\n",
    "import numpy as np"
   ],
   "metadata": {
    "collapsed": false,
    "pycharm": {
     "name": "#%%\n"
    }
   }
  },
  {
   "cell_type": "code",
   "execution_count": 10,
   "outputs": [],
   "source": [
    "BATCH_SIZE = 32\n",
    "IMAGE_WIDTH = 112\n",
    "IMAGE_HEIGHT = 112"
   ],
   "metadata": {
    "collapsed": false,
    "pycharm": {
     "name": "#%%\n"
    }
   }
  },
  {
   "cell_type": "code",
   "execution_count": 11,
   "outputs": [],
   "source": [
    "os.environ[\"TF_CPP_MIN_LOG_LEVEL\"] = \"2\"\n",
    "physical_devices = tf.config.list_physical_devices(\"GPU\")\n",
    "tf.config.experimental.set_memory_growth(physical_devices[0], True)"
   ],
   "metadata": {
    "collapsed": false,
    "pycharm": {
     "name": "#%%\n"
    }
   }
  },
  {
   "cell_type": "code",
   "execution_count": 12,
   "outputs": [],
   "source": [
    "# Load and prepare dataset\n",
    "\n",
    "(training_set, validation_set), dataset_info = tfds.load(\n",
    "    'oxford_flowers102',\n",
    "    split=['test', 'train'],\n",
    "    with_info=True,\n",
    "    as_supervised=True,\n",
    ")\n",
    "\n",
    "num_training_examples = 0\n",
    "for example in training_set:\n",
    "    num_training_examples += 1\n",
    "\n",
    "def format_image(image, label):\n",
    "    image = tf.image.resize(image, (IMAGE_WIDTH, IMAGE_HEIGHT))/255.0\n",
    "    return image, label\n",
    "\n",
    "train_batches = training_set.shuffle(num_training_examples//4).map(format_image)\n",
    "\n",
    "num_classes = dataset_info.features['label'].num_classes\n",
    "train_batches_images = np.array([_[0] for _ in train_batches])\n",
    "train_batches_labels = np.array([_[1] for _ in train_batches])"
   ],
   "metadata": {
    "collapsed": false,
    "pycharm": {
     "name": "#%%\n"
    }
   }
  },
  {
   "cell_type": "code",
   "execution_count": 13,
   "outputs": [],
   "source": [
    "cgan = CGanNet(batch_size=BATCH_SIZE,\n",
    "          batches_per_epoch=40,\n",
    "          image_width=IMAGE_WIDTH,\n",
    "          image_height=IMAGE_HEIGHT,\n",
    "          number_of_channels=3,\n",
    "          latent_dimension=100,\n",
    "          training_data=train_batches_images,\n",
    "          labels_data=train_batches_labels,\n",
    "          number_of_classes=num_classes\n",
    ")"
   ],
   "metadata": {
    "collapsed": false,
    "pycharm": {
     "name": "#%%\n"
    }
   }
  },
  {
   "cell_type": "code",
   "execution_count": 14,
   "outputs": [],
   "source": [
    "# Wyczyszczenie danych z katalogu cgan_data\n",
    "#cgan.clear_files_structure()"
   ],
   "metadata": {
    "collapsed": false,
    "pycharm": {
     "name": "#%%\n"
    }
   }
  },
  {
   "cell_type": "code",
   "execution_count": 15,
   "outputs": [],
   "source": [
    "cgan.define_discriminator()\n",
    "cgan.define_generator()\n",
    "cgan.define_gan()\n",
    "cgan.create_files_structure()"
   ],
   "metadata": {
    "collapsed": false,
    "pycharm": {
     "name": "#%%\n"
    }
   }
  },
  {
   "cell_type": "code",
   "execution_count": null,
   "outputs": [],
   "source": [
    "# Trenowanie modelu od zera\n",
    "cgan.train(number_of_epochs=1, load_past_model=False)\n",
    "cgan.plot_loss()"
   ],
   "metadata": {
    "collapsed": false,
    "pycharm": {
     "name": "#%%\n",
     "is_executing": true
    }
   }
  },
  {
   "cell_type": "code",
   "execution_count": null,
   "outputs": [],
   "source": [
    "# Wczytanie poprzedniego modelu\n",
    "cgan.train(number_of_epochs=100, load_past_model=True)\n",
    "cgan.plot_loss()"
   ],
   "metadata": {
    "collapsed": false,
    "pycharm": {
     "name": "#%%\n",
     "is_executing": true
    }
   }
  }
 ],
 "metadata": {
  "kernelspec": {
   "display_name": "Python 3",
   "language": "python",
   "name": "python3"
  },
  "language_info": {
   "codemirror_mode": {
    "name": "ipython",
    "version": 2
   },
   "file_extension": ".py",
   "mimetype": "text/x-python",
   "name": "python",
   "nbconvert_exporter": "python",
   "pygments_lexer": "ipython2",
   "version": "2.7.6"
  }
 },
 "nbformat": 4,
 "nbformat_minor": 0
}