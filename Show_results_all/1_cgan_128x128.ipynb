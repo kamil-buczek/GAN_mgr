{
 "cells": [
  {
   "cell_type": "code",
   "execution_count": null,
   "metadata": {
    "pycharm": {
     "name": "#%%\n"
    }
   },
   "outputs": [],
   "source": [
    "# External\n",
    "import tensorflow as tf\n",
    "import tensorflow_datasets as tfds\n",
    "import numpy as np\n",
    "# Local\n",
    "from CGAN import CGanNet\n",
    "\n",
    "NET_NAME = \"1_128x128\"\n",
    "BATCH_SIZE = 32\n",
    "IMAGE_WIDTH = 128\n",
    "IMAGE_HEIGHT = 128\n",
    "LEARNING_RATE_DISC: float = 0.0002\n",
    "LEARNING_RATE_GAN: float = 0.0002\n",
    "DROPOUT_RATE: float = 0.4\n",
    "DENSE_UNITS=128\n",
    "CONV_LAYERS = 2\n",
    "BATCH_NORM = False"
   ]
  },
  {
   "cell_type": "code",
   "execution_count": null,
   "outputs": [],
   "source": [
    "# Load dataset\n",
    "(training_set, validation_set), dataset_info = tfds.load(\n",
    "    'oxford_flowers102',\n",
    "    split=['test', 'validation'],\n",
    "    with_info=True,\n",
    "    as_supervised=True,\n",
    ")\n",
    "# Get size of datasets from dataset_info\n",
    "dataset_size = dataset_info.splits['test'].num_examples\n",
    "\n",
    "# Get number of labels\n",
    "num_classes = dataset_info.features['label'].num_classes\n",
    "\n",
    "# Preprocessing images\n",
    "def format_image(image, label):\n",
    "    image = tf.cast(image, tf.float32)\n",
    "    # image = image / 255.0\n",
    "    image = (image - 127.5) / 127.5\n",
    "    image = tf.image.resize(image, (IMAGE_WIDTH, IMAGE_HEIGHT))\n",
    "\n",
    "    return image, label\n",
    "train_batches = training_set.shuffle(dataset_size//4).map(format_image)\n",
    "\n",
    "# Get labels numbers to names map\n",
    "get_label_name = dataset_info.features['label'].int2str\n",
    "labels_strings = { _: get_label_name(_) for _ in range(num_classes) }\n",
    "\n",
    "# Create numpy arrays with images and labels\n",
    "numpy_train_batches_images = np.array([_[0] for _ in train_batches])\n",
    "numpy_train_batches_labels = np.array([_[1] for _ in train_batches])"
   ],
   "metadata": {
    "collapsed": false,
    "pycharm": {
     "name": "#%%\n"
    }
   }
  },
  {
   "cell_type": "code",
   "execution_count": null,
   "metadata": {
    "pycharm": {
     "name": "#%%\n"
    }
   },
   "outputs": [],
   "source": [
    "cgan = CGanNet(net_name=NET_NAME,\n",
    "               batch_size=BATCH_SIZE,\n",
    "               image_width=IMAGE_WIDTH,\n",
    "               image_height=IMAGE_HEIGHT,\n",
    "               learning_rate_disc=LEARNING_RATE_DISC,\n",
    "               learning_rate_gan=LEARNING_RATE_GAN,\n",
    "               dropout_rate= DROPOUT_RATE,\n",
    "               generator_dense_units=DENSE_UNITS,\n",
    "               num_conv_layers=CONV_LAYERS,\n",
    "               batch_norm=BATCH_NORM,\n",
    "               number_of_channels=3,\n",
    "               latent_dimension=100,\n",
    "               training_data=numpy_train_batches_images,\n",
    "               labels_data=numpy_train_batches_labels,\n",
    "               number_of_classes=num_classes,\n",
    "               labels_names = labels_strings)\n",
    "\n",
    "# Define GAN models\n",
    "cgan.define_discriminator()\n",
    "cgan.define_generator()\n",
    "cgan.define_gan()\n",
    "cgan.load_model()"
   ]
  },
  {
   "cell_type": "code",
   "execution_count": null,
   "outputs": [],
   "source": [
    "# Show images\n",
    "cgan.show_sample_images_with_labels()"
   ],
   "metadata": {
    "collapsed": false,
    "pycharm": {
     "name": "#%%\n"
    }
   }
  },
  {
   "cell_type": "code",
   "execution_count": null,
   "outputs": [],
   "source": [
    "cgan.show_one_image_with_label(label_num=20)"
   ],
   "metadata": {
    "collapsed": false,
    "pycharm": {
     "name": "#%%\n"
    }
   }
  }
 ],
 "metadata": {
  "kernelspec": {
   "display_name": "Python 3 (ipykernel)",
   "language": "python",
   "name": "python3"
  },
  "language_info": {
   "codemirror_mode": {
    "name": "ipython",
    "version": 3
   },
   "file_extension": ".py",
   "mimetype": "text/x-python",
   "name": "python",
   "nbconvert_exporter": "python",
   "pygments_lexer": "ipython3",
   "version": "3.8.10"
  }
 },
 "nbformat": 4,
 "nbformat_minor": 1
}