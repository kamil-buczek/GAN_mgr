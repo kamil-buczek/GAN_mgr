{
 "cells": [
  {
   "cell_type": "code",
   "execution_count": 1,
   "outputs": [],
   "source": [
    "import os\n",
    "import matplotlib.pyplot as plt\n",
    "import tensorflow as tf\n",
    "from gan.GAN import GanNet\n",
    "import tensorflow_datasets as tfds\n",
    "import numpy as np"
   ],
   "metadata": {
    "collapsed": false,
    "pycharm": {
     "name": "#%%\n"
    }
   }
  },
  {
   "cell_type": "code",
   "execution_count": 2,
   "outputs": [],
   "source": [
    "NET_NAME = 'alfa'\n",
    "BATCH_SIZE = 32\n",
    "IMAGE_WIDTH = 32\n",
    "IMAGE_HEIGHT = 32"
   ],
   "metadata": {
    "collapsed": false,
    "pycharm": {
     "name": "#%%\n"
    }
   }
  },
  {
   "cell_type": "code",
   "execution_count": 3,
   "outputs": [],
   "source": [
    "os.environ[\"TF_CPP_MIN_LOG_LEVEL\"] = \"2\"\n",
    "physical_devices = tf.config.list_physical_devices(\"GPU\")\n",
    "tf.config.experimental.set_memory_growth(physical_devices[0], True)"
   ],
   "metadata": {
    "collapsed": false,
    "pycharm": {
     "name": "#%%\n"
    }
   }
  },
  {
   "cell_type": "code",
   "execution_count": null,
   "outputs": [],
   "source": [
    "# Load and prepare dataset\n",
    "(training_set, validation_set), dataset_info = tfds.load(\n",
    "    'oxford_flowers102',\n",
    "    split=['test', 'validation'],\n",
    "    with_info=True,\n",
    "    as_supervised=True,\n",
    ")\n",
    "# Get size of datasets from dataset_info\n",
    "dataset_size = dataset_info.splits['test'].num_examples\n",
    "print(f'Dataset size is: {dataset_size}')\n",
    "num_classes = dataset_info.features['label'].num_classes\n",
    "print(f'Number of different images class labels: {num_classes}')"
   ],
   "metadata": {
    "collapsed": false,
    "pycharm": {
     "name": "#%%\n",
     "is_executing": true
    }
   }
  },
  {
   "cell_type": "code",
   "execution_count": 5,
   "outputs": [],
   "source": [
    "# Preprocessing images\n",
    "def format_image(image, label):\n",
    "    image = tf.cast(image, tf.float32)\n",
    "    image = image / 255.0\n",
    "    # image = (image - 127.5) / 127.5 # Normalize [-1, 1]\n",
    "    image = tf.image.resize(image, (IMAGE_WIDTH, IMAGE_HEIGHT))\n",
    "\n",
    "    return image, label\n",
    "\n",
    "train_batches = training_set.shuffle(dataset_size//4).map(format_image)\n",
    "\n",
    "get_label_name = dataset_info.features['label'].int2str\n",
    "labels_strings = { _: get_label_name(_) for _ in range(num_classes) }\n",
    "\n",
    "numpy_train_batches_images = np.array([_[0] for _ in train_batches])\n",
    "numpy_train_batches_labels = np.array([_[1] for _ in train_batches])"
   ],
   "metadata": {
    "collapsed": false,
    "pycharm": {
     "name": "#%%\n"
    }
   }
  },
  {
   "cell_type": "code",
   "execution_count": null,
   "outputs": [],
   "source": [
    "rows = 5\n",
    "cols = 5\n",
    "\n",
    "fig, axs = plt.subplots(rows, cols, figsize=(15, 15))\n",
    "cnt = 0\n",
    "\n",
    "for i in range(rows):\n",
    "    for j in range(cols):\n",
    "        image = numpy_train_batches_images[cnt, :, :, :]\n",
    "       #  image = (image + 1) / 2.0\n",
    "        image = np.clip(image, 0, 1)\n",
    "        label = numpy_train_batches_labels[cnt]\n",
    "        label_str = labels_strings[label]\n",
    "        axs[i, j].set_title(f'({label}): {label_str}')\n",
    "        axs[i, j].imshow(np.squeeze(image), cmap='gray')\n",
    "        axs[i, j].axis('off')\n",
    "        cnt += 1\n",
    "fig.set_facecolor('white')\n",
    "plt.show()"
   ],
   "metadata": {
    "collapsed": false,
    "pycharm": {
     "name": "#%%\n",
     "is_executing": true
    }
   }
  },
  {
   "cell_type": "code",
   "execution_count": 7,
   "outputs": [],
   "source": [
    "gan = GanNet(\n",
    "          net_name=NET_NAME,\n",
    "          batch_size=BATCH_SIZE,\n",
    "          batches_per_epoch=40,\n",
    "          image_width=IMAGE_WIDTH,\n",
    "          image_height=IMAGE_HEIGHT,\n",
    "          number_of_channels=3,\n",
    "          latent_dimension=100,\n",
    "          training_data=numpy_train_batches_images,\n",
    "          )"
   ],
   "metadata": {
    "collapsed": false,
    "pycharm": {
     "name": "#%%\n"
    }
   }
  },
  {
   "cell_type": "code",
   "execution_count": 8,
   "outputs": [],
   "source": [
    "gan.define_discriminator()\n",
    "gan.define_generator()\n",
    "gan.define_gan()"
   ],
   "metadata": {
    "collapsed": false,
    "pycharm": {
     "name": "#%%\n"
    }
   }
  },
  {
   "cell_type": "code",
   "execution_count": null,
   "outputs": [],
   "source": [
    "gan.train(number_of_epochs=10, load_past_model=False)\n",
    "gan.plot_loss()"
   ],
   "metadata": {
    "collapsed": false,
    "pycharm": {
     "name": "#%%\n",
     "is_executing": true
    }
   }
  },
  {
   "cell_type": "code",
   "execution_count": null,
   "outputs": [],
   "source": [
    "gan.train(number_of_epochs=10, load_past_model=True)\n",
    "gan.plot_loss()"
   ],
   "metadata": {
    "collapsed": false,
    "pycharm": {
     "name": "#%%\n",
     "is_executing": true
    }
   }
  },
  {
   "cell_type": "code",
   "execution_count": 11,
   "outputs": [],
   "source": [
    "gan.visualize_model()"
   ],
   "metadata": {
    "collapsed": false,
    "pycharm": {
     "name": "#%%\n"
    }
   }
  }
 ],
 "metadata": {
  "kernelspec": {
   "display_name": "Python 3",
   "language": "python",
   "name": "python3"
  },
  "language_info": {
   "codemirror_mode": {
    "name": "ipython",
    "version": 2
   },
   "file_extension": ".py",
   "mimetype": "text/x-python",
   "name": "python",
   "nbconvert_exporter": "python",
   "pygments_lexer": "ipython2",
   "version": "2.7.6"
  }
 },
 "nbformat": 4,
 "nbformat_minor": 0
}