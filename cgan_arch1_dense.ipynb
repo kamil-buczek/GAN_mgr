{
 "cells": [
  {
   "cell_type": "code",
   "execution_count": 1,
   "metadata": {
    "pycharm": {
     "name": "#%%\n"
    }
   },
   "outputs": [],
   "source": [
    "# External\n",
    "import tensorflow as tf\n",
    "import tensorflow_datasets as tfds\n",
    "import numpy as np\n",
    "# Std\n",
    "import os\n",
    "# Local\n",
    "from lib.functions import show_sample_images\n",
    "from CGAN import CGanNet"
   ]
  },
  {
   "cell_type": "code",
   "execution_count": 2,
   "metadata": {
    "pycharm": {
     "name": "#%%\n"
    }
   },
   "outputs": [],
   "source": [
    "NET_NAME = \"Praca_test4_arch1_dense\"\n",
    "BATCH_SIZE = 32\n",
    "IMAGE_WIDTH = 64\n",
    "IMAGE_HEIGHT = 64\n",
    "LEARNING_RATE_DISC: float = 0.0002\n",
    "LEARNING_RATE_GAN: float = 0.0002\n",
    "DROPOUT_RATE: float = 0.4\n",
    "DENSE_UNITS=256"
   ]
  },
  {
   "cell_type": "code",
   "execution_count": 3,
   "metadata": {
    "pycharm": {
     "name": "#%%\n"
    }
   },
   "outputs": [],
   "source": [
    "os.environ[\"TF_CPP_MIN_LOG_LEVEL\"] = \"2\"\n",
    "physical_devices = tf.config.list_physical_devices(\"GPU\")\n",
    "tf.config.experimental.set_memory_growth(physical_devices[0], True)"
   ]
  },
  {
   "cell_type": "code",
   "execution_count": 4,
   "outputs": [
    {
     "name": "stdout",
     "output_type": "stream",
     "text": [
      "Dataset size is: 6149\n",
      "Number of different images class labels: 102\n"
     ]
    }
   ],
   "source": [
    "# Load dataset\n",
    "(training_set, validation_set), dataset_info = tfds.load(\n",
    "    'oxford_flowers102',\n",
    "    split=['test', 'validation'],\n",
    "    with_info=True,\n",
    "    as_supervised=True,\n",
    ")\n",
    "# Get size of datasets from dataset_info\n",
    "dataset_size = dataset_info.splits['test'].num_examples\n",
    "print(f'Dataset size is: {dataset_size}')\n",
    "\n",
    "# Get number of labels\n",
    "num_classes = dataset_info.features['label'].num_classes\n",
    "print(f'Number of different images class labels: {num_classes}')"
   ],
   "metadata": {
    "collapsed": false,
    "pycharm": {
     "name": "#%%\n"
    }
   }
  },
  {
   "cell_type": "code",
   "execution_count": 5,
   "metadata": {
    "pycharm": {
     "name": "#%%\n"
    }
   },
   "outputs": [],
   "source": [
    "# Preprocessing images\n",
    "def format_image(image, label):\n",
    "    image = tf.cast(image, tf.float32)\n",
    "    image = image / 255.0\n",
    "    image = tf.image.resize(image, (IMAGE_WIDTH, IMAGE_HEIGHT))\n",
    "\n",
    "    return image, label\n",
    "train_batches = training_set.shuffle(dataset_size//4).map(format_image)\n",
    "\n",
    "# Get labels numbers to names map\n",
    "get_label_name = dataset_info.features['label'].int2str\n",
    "labels_strings = { _: get_label_name(_) for _ in range(num_classes) }\n",
    "\n",
    "# Create numpy arrays with images and labels\n",
    "numpy_train_batches_images = np.array([_[0] for _ in train_batches])\n",
    "numpy_train_batches_labels = np.array([_[1] for _ in train_batches])"
   ]
  },
  {
   "cell_type": "code",
   "execution_count": 6,
   "metadata": {
    "pycharm": {
     "name": "#%%\n"
    }
   },
   "outputs": [],
   "source": [
    "cgan = CGanNet(net_name=NET_NAME,\n",
    "               batch_size=BATCH_SIZE,\n",
    "               image_width=IMAGE_WIDTH,\n",
    "               image_height=IMAGE_HEIGHT,\n",
    "               learning_rate_disc= LEARNING_RATE_DISC,\n",
    "               learning_rate_gan=LEARNING_RATE_GAN,\n",
    "               dropout_rate= DROPOUT_RATE,\n",
    "               generator_dense_units=DENSE_UNITS,\n",
    "               number_of_channels=3,\n",
    "               latent_dimension=100,\n",
    "               training_data=numpy_train_batches_images,\n",
    "               labels_data=numpy_train_batches_labels,\n",
    "               number_of_classes=num_classes,\n",
    "               labels_names = labels_strings)"
   ]
  },
  {
   "cell_type": "code",
   "execution_count": 7,
   "outputs": [],
   "source": [
    "# Define GAN models\n",
    "cgan.define_discriminator()\n",
    "cgan.define_generator()\n",
    "cgan.define_gan()"
   ],
   "metadata": {
    "collapsed": false,
    "pycharm": {
     "name": "#%%\n"
    }
   }
  },
  {
   "cell_type": "code",
   "execution_count": null,
   "outputs": [],
   "source": [
    "# cgan.train(number_of_epochs=1, load_past_model=False)"
   ],
   "metadata": {
    "collapsed": false,
    "pycharm": {
     "name": "#%%\n"
    }
   }
  },
  {
   "cell_type": "code",
   "execution_count": null,
   "outputs": [],
   "source": [
    "show_sample_images(numpy_train_batches_images, numpy_train_batches_labels, labels_strings, NET_NAME, dataset_size=dataset_size)"
   ],
   "metadata": {
    "collapsed": false,
    "pycharm": {
     "name": "#%%\n"
    }
   }
  },
  {
   "cell_type": "code",
   "execution_count": null,
   "outputs": [],
   "source": [
    "cgan.visualize_models()"
   ],
   "metadata": {
    "collapsed": false,
    "pycharm": {
     "name": "#%%\n"
    }
   }
  },
  {
   "cell_type": "code",
   "execution_count": 8,
   "outputs": [
    {
     "name": "stdout",
     "output_type": "stream",
     "text": [
      "Number of images in dataset: 6149\n",
      "Batches per epoch: 192\n",
      "Half batch size is: 16\n",
      "----> Load epoch number: 459 from file /home/kamil/Repositories/GAN_mg/Praca_test4_arch1_dense_data/.epoch\n",
      "------------------------------------------------------------\n",
      "---> Epoch: 460 1/41\n",
      "---> Start time is: 08:28:08\n",
      "192/192 [==============================] - 48s 209ms/step\n",
      "---> End time is: 08:28:55\n",
      "---> D_real_loss: 1.0293588638305664 D_fake_loss: 0.7386008501052856 G_loss: 1.163521409034729\n",
      "----> D_real_acc: 0.5625 D_fake_acc: 0.6875\n",
      "----> Epoch training time: 0.0h 0.0m, 47s\n",
      "------------------------------------------------------------\n",
      "---> Epoch: 461 2/41\n",
      "---> Start time is: 08:28:57\n",
      "192/192 [==============================] - 41s 212ms/step\n",
      "---> End time is: 08:29:38\n",
      "---> D_real_loss: 0.9212340116500854 D_fake_loss: 0.2933043837547302 G_loss: 2.0666253566741943\n",
      "----> D_real_acc: 0.625 D_fake_acc: 0.875\n",
      "----> Epoch training time: 0.0h 0.0m, 40s\n",
      "------------------------------------------------------------\n",
      "---> Epoch: 462 3/41\n",
      "---> Start time is: 08:29:39\n",
      "192/192 [==============================] - 41s 212ms/step\n",
      "---> End time is: 08:30:20\n",
      "---> D_real_loss: 1.2082569599151611 D_fake_loss: 0.9415349960327148 G_loss: 1.3200241327285767\n",
      "----> D_real_acc: 0.5 D_fake_acc: 0.375\n",
      "----> Epoch training time: 0.0h 0.0m, 40s\n",
      "------------------------------------------------------------\n",
      "---> Epoch: 463 4/41\n",
      "---> Start time is: 08:30:21\n",
      "192/192 [==============================] - 41s 214ms/step\n",
      "---> End time is: 08:31:02\n",
      "---> D_real_loss: 0.7584069967269897 D_fake_loss: 0.8063777685165405 G_loss: 1.3866736888885498\n",
      "----> D_real_acc: 0.5625 D_fake_acc: 0.5\n",
      "----> Epoch training time: 0.0h 0.0m, 41s\n",
      "------------------------------------------------------------\n",
      "---> Epoch: 464 5/41\n",
      "---> Start time is: 08:31:03\n",
      "192/192 [==============================] - 41s 215ms/step\n",
      "---> End time is: 08:31:45\n",
      "---> D_real_loss: 0.7746447920799255 D_fake_loss: 0.7195401191711426 G_loss: 1.7103608846664429\n",
      "----> D_real_acc: 0.5625 D_fake_acc: 0.625\n",
      "----> Epoch training time: 0.0h 0.0m, 41s\n",
      "------------------------------------------------------------\n",
      "---> Epoch: 465 6/41\n",
      "---> Start time is: 08:31:46\n",
      "192/192 [==============================] - 41s 214ms/step\n",
      "---> End time is: 08:32:27\n",
      "---> D_real_loss: 0.9077526330947876 D_fake_loss: 1.0503342151641846 G_loss: 1.8376643657684326\n",
      "----> D_real_acc: 0.5625 D_fake_acc: 0.5\n",
      "----> Epoch training time: 0.0h 0.0m, 41s\n",
      "------------------------------------------------------------\n",
      "---> Epoch: 466 7/41\n",
      "---> Start time is: 08:32:28\n",
      "192/192 [==============================] - 41s 215ms/step\n",
      "---> End time is: 08:33:09\n",
      "---> D_real_loss: 0.6140174865722656 D_fake_loss: 0.44416239857673645 G_loss: 1.8020700216293335\n",
      "----> D_real_acc: 0.5625 D_fake_acc: 0.75\n",
      "----> Epoch training time: 0.0h 0.0m, 41s\n",
      "------------------------------------------------------------\n",
      "---> Epoch: 467 8/41\n",
      "---> Start time is: 08:33:10\n",
      "192/192 [==============================] - 41s 216ms/step\n",
      "---> End time is: 08:33:52\n",
      "---> D_real_loss: 0.6596472263336182 D_fake_loss: 0.48668402433395386 G_loss: 1.878908634185791\n",
      "----> D_real_acc: 0.625 D_fake_acc: 0.75\n",
      "----> Epoch training time: 0.0h 0.0m, 41s\n",
      "------------------------------------------------------------\n",
      "---> Epoch: 468 9/41\n",
      "---> Start time is: 08:33:53\n",
      "192/192 [==============================] - 41s 215ms/step\n",
      "---> End time is: 08:34:34\n",
      "---> D_real_loss: 0.7818783521652222 D_fake_loss: 0.49071967601776123 G_loss: 1.8032033443450928\n",
      "----> D_real_acc: 0.625 D_fake_acc: 0.75\n",
      "----> Epoch training time: 0.0h 0.0m, 41s\n",
      "------------------------------------------------------------\n",
      "---> Epoch: 469 10/41\n",
      "---> Start time is: 08:34:35\n",
      "192/192 [==============================] - 41s 216ms/step\n",
      "---> End time is: 08:35:17\n",
      "---> D_real_loss: 0.645557165145874 D_fake_loss: 0.5063308477401733 G_loss: 1.3978993892669678\n",
      "----> D_real_acc: 0.6875 D_fake_acc: 0.6875\n",
      "----> Epoch training time: 0.0h 0.0m, 41s\n",
      "------------------------------------------------------------\n",
      "---> Epoch: 470 11/41\n",
      "---> Start time is: 08:35:18\n",
      "192/192 [==============================] - 41s 216ms/step\n",
      "---> End time is: 08:35:59\n",
      "---> D_real_loss: 0.4507829546928406 D_fake_loss: 0.7208050489425659 G_loss: 1.4237561225891113\n",
      "----> D_real_acc: 0.8125 D_fake_acc: 0.6875\n",
      "----> Epoch training time: 0.0h 0.0m, 41s\n",
      "------------------------------------------------------------\n",
      "---> Epoch: 471 12/41\n",
      "---> Start time is: 08:36:01\n",
      "192/192 [==============================] - 41s 215ms/step\n",
      "---> End time is: 08:36:42\n",
      "---> D_real_loss: 0.543806791305542 D_fake_loss: 0.7148317098617554 G_loss: 1.8768150806427002\n",
      "----> D_real_acc: 0.6875 D_fake_acc: 0.75\n",
      "----> Epoch training time: 0.0h 0.0m, 41s\n",
      "------------------------------------------------------------\n",
      "---> Epoch: 472 13/41\n",
      "---> Start time is: 08:36:43\n",
      "192/192 [==============================] - 42s 217ms/step\n",
      "---> End time is: 08:37:25\n",
      "---> D_real_loss: 0.6674190163612366 D_fake_loss: 0.6164842844009399 G_loss: 1.497300624847412\n",
      "----> D_real_acc: 0.75 D_fake_acc: 0.625\n",
      "----> Epoch training time: 0.0h 0.0m, 41s\n",
      "------------------------------------------------------------\n",
      "---> Epoch: 473 14/41\n",
      "---> Start time is: 08:37:26\n",
      "192/192 [==============================] - 41s 216ms/step\n",
      "---> End time is: 08:38:07\n",
      "---> D_real_loss: 0.49804776906967163 D_fake_loss: 0.493025004863739 G_loss: 1.6582156419754028\n",
      "----> D_real_acc: 0.6875 D_fake_acc: 0.8125\n",
      "----> Epoch training time: 0.0h 0.0m, 41s\n",
      "------------------------------------------------------------\n",
      "---> Epoch: 474 15/41\n",
      "---> Start time is: 08:38:09\n",
      "192/192 [==============================] - 41s 214ms/step\n",
      "---> End time is: 08:38:50\n",
      "---> D_real_loss: 0.37871772050857544 D_fake_loss: 0.7108729481697083 G_loss: 1.5603501796722412\n",
      "----> D_real_acc: 0.8125 D_fake_acc: 0.625\n",
      "----> Epoch training time: 0.0h 0.0m, 41s\n",
      "------------------------------------------------------------\n",
      "---> Epoch: 475 16/41\n",
      "---> Start time is: 08:38:51\n",
      "192/192 [==============================] - 42s 215ms/step\n",
      "---> End time is: 08:39:33\n",
      "---> D_real_loss: 0.555332601070404 D_fake_loss: 0.47598928213119507 G_loss: 1.6161105632781982\n",
      "----> D_real_acc: 0.75 D_fake_acc: 0.75\n",
      "----> Epoch training time: 0.0h 0.0m, 41s\n",
      "------------------------------------------------------------\n",
      "---> Epoch: 476 17/41\n",
      "---> Start time is: 08:39:34\n",
      "192/192 [==============================] - 41s 215ms/step\n",
      "---> End time is: 08:40:15\n",
      "---> D_real_loss: 0.6510854959487915 D_fake_loss: 0.7644984722137451 G_loss: 1.6433274745941162\n",
      "----> D_real_acc: 0.625 D_fake_acc: 0.6875\n",
      "----> Epoch training time: 0.0h 0.0m, 41s\n",
      "------------------------------------------------------------\n",
      "---> Epoch: 477 18/41\n",
      "---> Start time is: 08:40:16\n",
      "192/192 [==============================] - 41s 215ms/step\n",
      "---> End time is: 08:40:57\n",
      "---> D_real_loss: 0.5548572540283203 D_fake_loss: 0.8560649752616882 G_loss: 1.1882715225219727\n",
      "----> D_real_acc: 0.6875 D_fake_acc: 0.5625\n",
      "----> Epoch training time: 0.0h 0.0m, 41s\n",
      "------------------------------------------------------------\n",
      "---> Epoch: 478 19/41\n",
      "---> Start time is: 08:40:58\n",
      "192/192 [==============================] - 40s 211ms/step\n",
      "---> End time is: 08:41:39\n",
      "---> D_real_loss: 0.45883458852767944 D_fake_loss: 0.5747347474098206 G_loss: 1.4759852886199951\n",
      "----> D_real_acc: 0.6875 D_fake_acc: 0.6875\n",
      "----> Epoch training time: 0.0h 0.0m, 40s\n",
      "------------------------------------------------------------\n",
      "---> Epoch: 479 20/41\n",
      "---> Start time is: 08:41:40\n",
      "192/192 [==============================] - 42s 217ms/step\n",
      "---> End time is: 08:42:22\n",
      "---> D_real_loss: 0.49099665880203247 D_fake_loss: 0.5556682348251343 G_loss: 1.6060125827789307\n",
      "----> D_real_acc: 0.6875 D_fake_acc: 0.6875\n",
      "----> Epoch training time: 0.0h 0.0m, 41s\n",
      "------------------------------------------------------------\n",
      "---> Epoch: 480 21/41\n",
      "---> Start time is: 08:42:23\n",
      "192/192 [==============================] - 41s 214ms/step\n",
      "---> End time is: 08:43:04\n",
      "---> D_real_loss: 0.7899212837219238 D_fake_loss: 0.4636681079864502 G_loss: 1.3342528343200684\n",
      "----> D_real_acc: 0.5 D_fake_acc: 0.875\n",
      "----> Epoch training time: 0.0h 0.0m, 41s\n",
      "------------------------------------------------------------\n",
      "---> Epoch: 481 22/41\n",
      "---> Start time is: 08:43:06\n",
      "192/192 [==============================] - 41s 215ms/step\n",
      "---> End time is: 08:43:47\n",
      "---> D_real_loss: 0.4179163873195648 D_fake_loss: 0.5726175308227539 G_loss: 1.6976184844970703\n",
      "----> D_real_acc: 0.875 D_fake_acc: 0.8125\n",
      "----> Epoch training time: 0.0h 0.0m, 41s\n",
      "------------------------------------------------------------\n",
      "---> Epoch: 482 23/41\n",
      "---> Start time is: 08:43:48\n",
      "192/192 [==============================] - 41s 215ms/step\n",
      "---> End time is: 08:44:29\n",
      "---> D_real_loss: 0.6038198471069336 D_fake_loss: 0.6439963579177856 G_loss: 1.5325332880020142\n",
      "----> D_real_acc: 0.6875 D_fake_acc: 0.75\n",
      "----> Epoch training time: 0.0h 0.0m, 41s\n",
      "------------------------------------------------------------\n",
      "---> Epoch: 483 24/41\n",
      "---> Start time is: 08:44:31\n",
      "192/192 [==============================] - 42s 217ms/step\n",
      "---> End time is: 08:45:13\n",
      "---> D_real_loss: 0.7106859683990479 D_fake_loss: 0.4669598937034607 G_loss: 2.1025898456573486\n",
      "----> D_real_acc: 0.5625 D_fake_acc: 0.75\n",
      "----> Epoch training time: 0.0h 0.0m, 41s\n",
      "------------------------------------------------------------\n",
      "---> Epoch: 484 25/41\n",
      "---> Start time is: 08:45:14\n",
      "192/192 [==============================] - 41s 215ms/step\n",
      "---> End time is: 08:45:55\n",
      "---> D_real_loss: 0.6223170757293701 D_fake_loss: 0.6993302702903748 G_loss: 1.7775518894195557\n",
      "----> D_real_acc: 0.625 D_fake_acc: 0.75\n",
      "----> Epoch training time: 0.0h 0.0m, 41s\n",
      "------------------------------------------------------------\n",
      "---> Epoch: 485 26/41\n",
      "---> Start time is: 08:45:56\n",
      "192/192 [==============================] - 41s 216ms/step\n",
      "---> End time is: 08:46:37\n",
      "---> D_real_loss: 0.617516279220581 D_fake_loss: 0.6749057173728943 G_loss: 1.384627103805542\n",
      "----> D_real_acc: 0.5625 D_fake_acc: 0.6875\n",
      "----> Epoch training time: 0.0h 0.0m, 41s\n",
      "------------------------------------------------------------\n",
      "---> Epoch: 486 27/41\n",
      "---> Start time is: 08:46:39\n",
      "192/192 [==============================] - 41s 215ms/step\n",
      "---> End time is: 08:47:20\n",
      "---> D_real_loss: 0.5457410216331482 D_fake_loss: 0.6114020347595215 G_loss: 1.0311291217803955\n",
      "----> D_real_acc: 0.75 D_fake_acc: 0.625\n",
      "----> Epoch training time: 0.0h 0.0m, 41s\n",
      "------------------------------------------------------------\n",
      "---> Epoch: 487 28/41\n",
      "---> Start time is: 08:47:21\n",
      "192/192 [==============================] - 41s 213ms/step\n",
      "---> End time is: 08:48:02\n",
      "---> D_real_loss: 0.651515543460846 D_fake_loss: 0.7952766418457031 G_loss: 1.4157214164733887\n",
      "----> D_real_acc: 0.6875 D_fake_acc: 0.5\n",
      "----> Epoch training time: 0.0h 0.0m, 40s\n",
      "------------------------------------------------------------\n",
      "---> Epoch: 488 29/41\n",
      "---> Start time is: 08:48:04\n",
      "192/192 [==============================] - 42s 217ms/step\n",
      "---> End time is: 08:48:45\n",
      "---> D_real_loss: 0.4289228916168213 D_fake_loss: 0.7906478047370911 G_loss: 1.564231276512146\n",
      "----> D_real_acc: 0.8125 D_fake_acc: 0.5\n",
      "----> Epoch training time: 0.0h 0.0m, 41s\n",
      "------------------------------------------------------------\n",
      "---> Epoch: 489 30/41\n",
      "---> Start time is: 08:48:46\n",
      "192/192 [==============================] - 41s 216ms/step\n",
      "---> End time is: 08:49:28\n",
      "---> D_real_loss: 0.7700560092926025 D_fake_loss: 0.45215606689453125 G_loss: 1.1626474857330322\n",
      "----> D_real_acc: 0.5 D_fake_acc: 0.8125\n",
      "----> Epoch training time: 0.0h 0.0m, 41s\n",
      "------------------------------------------------------------\n",
      "---> Epoch: 490 31/41\n",
      "---> Start time is: 08:49:29\n",
      "192/192 [==============================] - 41s 215ms/step\n",
      "---> End time is: 08:50:10\n",
      "---> D_real_loss: 0.5564711093902588 D_fake_loss: 0.8117123246192932 G_loss: 1.3016629219055176\n",
      "----> D_real_acc: 0.75 D_fake_acc: 0.625\n",
      "----> Epoch training time: 0.0h 0.0m, 41s\n",
      "------------------------------------------------------------\n",
      "---> Epoch: 491 32/41\n",
      "---> Start time is: 08:50:11\n",
      "192/192 [==============================] - 41s 215ms/step\n",
      "---> End time is: 08:50:52\n",
      "---> D_real_loss: 0.5218748450279236 D_fake_loss: 0.8910517692565918 G_loss: 1.587060809135437\n",
      "----> D_real_acc: 0.8125 D_fake_acc: 0.625\n",
      "----> Epoch training time: 0.0h 0.0m, 41s\n",
      "------------------------------------------------------------\n",
      "---> Epoch: 492 33/41\n",
      "---> Start time is: 08:50:53\n",
      "192/192 [==============================] - 41s 213ms/step\n",
      "---> End time is: 08:51:34\n",
      "---> D_real_loss: 0.7930486798286438 D_fake_loss: 0.7570280432701111 G_loss: 1.1583380699157715\n",
      "----> D_real_acc: 0.4375 D_fake_acc: 0.625\n",
      "----> Epoch training time: 0.0h 0.0m, 40s\n",
      "------------------------------------------------------------\n",
      "---> Epoch: 493 34/41\n",
      "---> Start time is: 08:51:36\n",
      "192/192 [==============================] - 42s 217ms/step\n",
      "---> End time is: 08:52:18\n",
      "---> D_real_loss: 0.6440877914428711 D_fake_loss: 0.40701746940612793 G_loss: 1.7379701137542725\n",
      "----> D_real_acc: 0.6875 D_fake_acc: 0.875\n",
      "----> Epoch training time: 0.0h 0.0m, 42s\n",
      "------------------------------------------------------------\n",
      "---> Epoch: 494 35/41\n",
      "---> Start time is: 08:52:19\n",
      "192/192 [==============================] - 41s 216ms/step\n",
      "---> End time is: 08:53:00\n",
      "---> D_real_loss: 0.5937355756759644 D_fake_loss: 0.4076164662837982 G_loss: 1.2995874881744385\n",
      "----> D_real_acc: 0.6875 D_fake_acc: 0.875\n",
      "----> Epoch training time: 0.0h 0.0m, 41s\n",
      "------------------------------------------------------------\n",
      "---> Epoch: 495 36/41\n",
      "---> Start time is: 08:53:02\n",
      "192/192 [==============================] - 41s 214ms/step\n",
      "---> End time is: 08:53:43\n",
      "---> D_real_loss: 0.6914292573928833 D_fake_loss: 0.6474151611328125 G_loss: 1.689337134361267\n",
      "----> D_real_acc: 0.6875 D_fake_acc: 0.75\n",
      "----> Epoch training time: 0.0h 0.0m, 41s\n",
      "------------------------------------------------------------\n",
      "---> Epoch: 496 37/41\n",
      "---> Start time is: 08:53:44\n",
      "192/192 [==============================] - 41s 215ms/step\n",
      "---> End time is: 08:54:25\n",
      "---> D_real_loss: 0.5119379758834839 D_fake_loss: 0.46378642320632935 G_loss: 1.467165470123291\n",
      "----> D_real_acc: 0.8125 D_fake_acc: 0.875\n",
      "----> Epoch training time: 0.0h 0.0m, 41s\n",
      "------------------------------------------------------------\n",
      "---> Epoch: 497 38/41\n",
      "---> Start time is: 08:54:26\n",
      "192/192 [==============================] - 41s 214ms/step\n",
      "---> End time is: 08:55:07\n",
      "---> D_real_loss: 0.5747857093811035 D_fake_loss: 0.467519611120224 G_loss: 1.3215875625610352\n",
      "----> D_real_acc: 0.8125 D_fake_acc: 0.8125\n",
      "----> Epoch training time: 0.0h 0.0m, 41s\n",
      "------------------------------------------------------------\n",
      "---> Epoch: 498 39/41\n",
      "---> Start time is: 08:55:08\n",
      "192/192 [==============================] - 41s 215ms/step\n",
      "---> End time is: 08:55:49\n",
      "---> D_real_loss: 0.8719010353088379 D_fake_loss: 0.5384601354598999 G_loss: 2.1579842567443848\n",
      "----> D_real_acc: 0.5625 D_fake_acc: 0.75\n",
      "----> Epoch training time: 0.0h 0.0m, 41s\n",
      "------------------------------------------------------------\n",
      "---> Epoch: 499 40/41\n",
      "---> Start time is: 08:55:51\n",
      "192/192 [==============================] - 41s 215ms/step\n",
      "---> End time is: 08:56:32\n",
      "---> D_real_loss: 0.4938591718673706 D_fake_loss: 0.5094185471534729 G_loss: 1.4846153259277344\n",
      "----> D_real_acc: 0.75 D_fake_acc: 0.6875\n",
      "----> Epoch training time: 0.0h 0.0m, 41s\n",
      "------------------------------------------------------------\n",
      "---> Epoch: 500 41/41\n",
      "---> Start time is: 08:56:34\n",
      "192/192 [==============================] - 42s 217ms/step\n",
      "---> End time is: 08:57:16\n",
      "---> D_real_loss: 0.693597674369812 D_fake_loss: 0.27178606390953064 G_loss: 1.4183250665664673\n",
      "----> D_real_acc: 0.5625 D_fake_acc: 1.0\n",
      "----> Epoch training time: 0.0h 0.0m, 41s\n",
      "WARNING:tensorflow:Compiled the loaded model, but the compiled metrics have yet to be built. `model.compile_metrics` will be empty until you train or evaluate the model.\n"
     ]
    },
    {
     "name": "stderr",
     "output_type": "stream",
     "text": [
      "WARNING:tensorflow:Compiled the loaded model, but the compiled metrics have yet to be built. `model.compile_metrics` will be empty until you train or evaluate the model.\n"
     ]
    },
    {
     "name": "stdout",
     "output_type": "stream",
     "text": [
      "----> Total training time: 5.0h 24.0m, 28s\n"
     ]
    },
    {
     "data": {
      "text/plain": "<Figure size 1080x1080 with 1 Axes>",
      "image/png": "[encoded data removed]"
     },
     "metadata": {},
     "output_type": "display_data"
    }
   ],
   "source": [
    "cgan.train(number_of_epochs=41, load_past_model=True)"
   ],
   "metadata": {
    "collapsed": false,
    "pycharm": {
     "name": "#%%\n"
    }
   }
  },
  {
   "cell_type": "code",
   "execution_count": 19,
   "outputs": [
    {
     "name": "stdout",
     "output_type": "stream",
     "text": [
      "----> Total training time: 4.0h 56.0m, 9s\n"
     ]
    }
   ],
   "source": [
    "cgan.get_training_time()"
   ],
   "metadata": {
    "collapsed": false,
    "pycharm": {
     "name": "#%%\n"
    }
   }
  },
  {
   "cell_type": "code",
   "execution_count": null,
   "outputs": [],
   "source": [],
   "metadata": {
    "collapsed": false,
    "pycharm": {
     "name": "#%%\n"
    }
   }
  }
 ],
 "metadata": {
  "kernelspec": {
   "display_name": "Python 3 (ipykernel)",
   "language": "python",
   "name": "python3"
  },
  "language_info": {
   "codemirror_mode": {
    "name": "ipython",
    "version": 3
   },
   "file_extension": ".py",
   "mimetype": "text/x-python",
   "name": "python",
   "nbconvert_exporter": "python",
   "pygments_lexer": "ipython3",
   "version": "3.8.10"
  }
 },
 "nbformat": 4,
 "nbformat_minor": 1
}